{
 "cells": [
  {
   "cell_type": "code",
   "execution_count": 8,
   "metadata": {},
   "outputs": [
    {
     "name": "stdout",
     "output_type": "stream",
     "text": [
      "<class 'pandas.core.frame.DataFrame'>\n",
      "RangeIndex: 829897 entries, 0 to 829896\n",
      "Data columns (total 8 columns):\n",
      " #   Column         Non-Null Count   Dtype         \n",
      "---  ------         --------------   -----         \n",
      " 0   last_modified  829897 non-null  datetime64[ns]\n",
      " 1   region_id      829897 non-null  Int64         \n",
      " 2   type_id        829897 non-null  Int64         \n",
      " 3   is_buy_order   829897 non-null  boolean       \n",
      " 4   price          829897 non-null  float64       \n",
      " 5   count          829897 non-null  Int64         \n",
      " 6   volume         829897 non-null  Int64         \n",
      " 7   value          829897 non-null  float64       \n",
      "dtypes: Int64(4), boolean(1), datetime64[ns](1), float64(2)\n",
      "memory usage: 49.1 MB\n"
     ]
    }
   ],
   "source": [
    "import plotly.graph_objects as go\n",
    "import awswrangler as wr\n",
    "from io import BytesIO\n",
    "import pandas as pd\n",
    "import matplotlib.pyplot as plot\n",
    "import matplotlib.dates\n",
    "\n",
    "from datetime import datetime\n",
    "from dotenv import load_dotenv\n",
    "from os import environ\n",
    "import numpy as np\n",
    "\n",
    "import boto3\n",
    "\n",
    "load_dotenv()\n",
    "\n",
    "S3_ENDPOINT=\"http://localhost:9000\"\n",
    "S3_ACCESS_KEY_ID=environ.get('MINIO_ACCESS_KEY_ID')\n",
    "S3_SECRET_ACCESS_KEY=environ.get('MINIO_SECRET_ACCESS_KEY')\n",
    "\n",
    "wr.config.s3_endpoint_url = S3_ENDPOINT\n",
    "\n",
    "boto3.setup_default_session(\n",
    "    aws_access_key_id=S3_ACCESS_KEY_ID,\n",
    "    aws_secret_access_key=S3_SECRET_ACCESS_KEY\n",
    ")\n",
    "s3 = wr.s3\n",
    "\n",
    "# depths_df = s3.read_parquet('s3://evellama-dev-data-stage/market_exchange_depths/jita/2023/01/04/market_exchange_depths_jita_20230104_1672805195.parquet')\n",
    "# quotes_df = s3.read_parquet('s3://evellama-data-stage/market_region_quotes/10000060/2022/12/27/market_region_quotes_10000060_20221227_1672102287.parquet')\n",
    "# depths_df.info()\n",
    "\n",
    "depths_paths = {10000001: 's3://evellama-dev-data-stage/market_region_depths/10000001/2023/01/04/market_region_depths_10000001_20230104_1672844432.parquet', 10000002: 's3://evellama-dev-data-stage/market_region_depths/10000002/2023/01/04/market_region_depths_10000002_20230104_1672844524.parquet', 10000003: 's3://evellama-dev-data-stage/market_region_depths/10000003/2023/01/04/market_region_depths_10000003_20230104_1672844574.parquet', 10000005: 's3://evellama-dev-data-stage/market_region_depths/10000005/2023/01/04/market_region_depths_10000005_20230104_1672844566.parquet', 10000006: 's3://evellama-dev-data-stage/market_region_depths/10000006/2023/01/04/market_region_depths_10000006_20230104_1672844604.parquet', 10000009: 's3://evellama-dev-data-stage/market_region_depths/10000009/2023/01/04/market_region_depths_10000009_20230104_1672844565.parquet', 10000010: 's3://evellama-dev-data-stage/market_region_depths/10000010/2023/01/04/market_region_depths_10000010_20230104_1672844616.parquet', 10000011: 's3://evellama-dev-data-stage/market_region_depths/10000011/2023/01/04/market_region_depths_10000011_20230104_1672844574.parquet', 10000012: 's3://evellama-dev-data-stage/market_region_depths/10000012/2023/01/04/market_region_depths_10000012_20230104_1672844425.parquet', 10000013: 's3://evellama-dev-data-stage/market_region_depths/10000013/2023/01/04/market_region_depths_10000013_20230104_1672844545.parquet', 10000015: 's3://evellama-dev-data-stage/market_region_depths/10000015/2023/01/04/market_region_depths_10000015_20230104_1672844435.parquet', 10000016: 's3://evellama-dev-data-stage/market_region_depths/10000016/2023/01/04/market_region_depths_10000016_20230104_1672844582.parquet', 10000017: 's3://evellama-dev-data-stage/market_region_depths/10000017/2023/01/04/market_region_depths_10000017_20230104_1672844582.parquet', 10000020: 's3://evellama-dev-data-stage/market_region_depths/10000020/2023/01/04/market_region_depths_10000020_20230104_1672844475.parquet', 10000022: 's3://evellama-dev-data-stage/market_region_depths/10000022/2023/01/04/market_region_depths_10000022_20230104_1672844436.parquet', 10000023: 's3://evellama-dev-data-stage/market_region_depths/10000023/2023/01/04/market_region_depths_10000023_20230104_1672844474.parquet', 10000025: 's3://evellama-dev-data-stage/market_region_depths/10000025/2023/01/04/market_region_depths_10000025_20230104_1672844492.parquet', 10000027: 's3://evellama-dev-data-stage/market_region_depths/10000027/2023/01/04/market_region_depths_10000027_20230104_1672844514.parquet', 10000028: 's3://evellama-dev-data-stage/market_region_depths/10000028/2023/01/04/market_region_depths_10000028_20230104_1672844531.parquet', 10000029: 's3://evellama-dev-data-stage/market_region_depths/10000029/2023/01/04/market_region_depths_10000029_20230104_1672844545.parquet', 10000030: 's3://evellama-dev-data-stage/market_region_depths/10000030/2023/01/04/market_region_depths_10000030_20230104_1672844546.parquet', 10000032: 's3://evellama-dev-data-stage/market_region_depths/10000032/2023/01/04/market_region_depths_10000032_20230104_1672844564.parquet', 10000033: 's3://evellama-dev-data-stage/market_region_depths/10000033/2023/01/04/market_region_depths_10000033_20230104_1672844585.parquet', 10000034: 's3://evellama-dev-data-stage/market_region_depths/10000034/2023/01/04/market_region_depths_10000034_20230104_1672844573.parquet', 10000035: 's3://evellama-dev-data-stage/market_region_depths/10000035/2023/01/04/market_region_depths_10000035_20230104_1672844554.parquet', 10000036: 's3://evellama-dev-data-stage/market_region_depths/10000036/2023/01/04/market_region_depths_10000036_20230104_1672844502.parquet', 10000037: 's3://evellama-dev-data-stage/market_region_depths/10000037/2023/01/04/market_region_depths_10000037_20230104_1672844718.parquet', 10000038: 's3://evellama-dev-data-stage/market_region_depths/10000038/2023/01/04/market_region_depths_10000038_20230104_1672844460.parquet', 10000039: 's3://evellama-dev-data-stage/market_region_depths/10000039/2023/01/04/market_region_depths_10000039_20230104_1672844581.parquet', 10000041: 's3://evellama-dev-data-stage/market_region_depths/10000041/2023/01/04/market_region_depths_10000041_20230104_1672844423.parquet', 10000042: 's3://evellama-dev-data-stage/market_region_depths/10000042/2023/01/04/market_region_depths_10000042_20230104_1672844555.parquet', 10000043: 's3://evellama-dev-data-stage/market_region_depths/10000043/2023/01/04/market_region_depths_10000043_20230104_1672844538.parquet', 10000044: 's3://evellama-dev-data-stage/market_region_depths/10000044/2023/01/04/market_region_depths_10000044_20230104_1672844446.parquet', 10000046: 's3://evellama-dev-data-stage/market_region_depths/10000046/2023/01/04/market_region_depths_10000046_20230104_1672844626.parquet', 10000047: 's3://evellama-dev-data-stage/market_region_depths/10000047/2023/01/04/market_region_depths_10000047_20230104_1672844588.parquet', 10000048: 's3://evellama-dev-data-stage/market_region_depths/10000048/2023/01/04/market_region_depths_10000048_20230104_1672844718.parquet', 10000049: 's3://evellama-dev-data-stage/market_region_depths/10000049/2023/01/04/market_region_depths_10000049_20230104_1672844494.parquet', 10000050: 's3://evellama-dev-data-stage/market_region_depths/10000050/2023/01/04/market_region_depths_10000050_20230104_1672844503.parquet', 10000051: 's3://evellama-dev-data-stage/market_region_depths/10000051/2023/01/04/market_region_depths_10000051_20230104_1672844524.parquet', 10000052: 's3://evellama-dev-data-stage/market_region_depths/10000052/2023/01/04/market_region_depths_10000052_20230104_1672844613.parquet', 10000053: 's3://evellama-dev-data-stage/market_region_depths/10000053/2023/01/04/market_region_depths_10000053_20230104_1672844587.parquet', 10000054: 's3://evellama-dev-data-stage/market_region_depths/10000054/2023/01/04/market_region_depths_10000054_20230104_1672844725.parquet', 10000055: 's3://evellama-dev-data-stage/market_region_depths/10000055/2023/01/04/market_region_depths_10000055_20230104_1672844536.parquet', 10000056: 's3://evellama-dev-data-stage/market_region_depths/10000056/2023/01/04/market_region_depths_10000056_20230104_1672844565.parquet', 10000057: 's3://evellama-dev-data-stage/market_region_depths/10000057/2023/01/04/market_region_depths_10000057_20230104_1672844452.parquet', 10000058: 's3://evellama-dev-data-stage/market_region_depths/10000058/2023/01/04/market_region_depths_10000058_20230104_1672844549.parquet', 10000059: 's3://evellama-dev-data-stage/market_region_depths/10000059/2023/01/04/market_region_depths_10000059_20230104_1672844538.parquet', 10000060: 's3://evellama-dev-data-stage/market_region_depths/10000060/2023/01/04/market_region_depths_10000060_20230104_1672844595.parquet', 10000061: 's3://evellama-dev-data-stage/market_region_depths/10000061/2023/01/04/market_region_depths_10000061_20230104_1672844555.parquet', 10000062: 's3://evellama-dev-data-stage/market_region_depths/10000062/2023/01/04/market_region_depths_10000062_20230104_1672844576.parquet', 10000063: 's3://evellama-dev-data-stage/market_region_depths/10000063/2023/01/04/market_region_depths_10000063_20230104_1672844528.parquet', 10000064: 's3://evellama-dev-data-stage/market_region_depths/10000064/2023/01/04/market_region_depths_10000064_20230104_1672844618.parquet', 10000065: 's3://evellama-dev-data-stage/market_region_depths/10000065/2023/01/04/market_region_depths_10000065_20230104_1672844701.parquet', 10000066: 's3://evellama-dev-data-stage/market_region_depths/10000066/2023/01/04/market_region_depths_10000066_20230104_1672844588.parquet', 10000067: 's3://evellama-dev-data-stage/market_region_depths/10000067/2023/01/04/market_region_depths_10000067_20230104_1672844451.parquet', 10000068: 's3://evellama-dev-data-stage/market_region_depths/10000068/2023/01/04/market_region_depths_10000068_20230104_1672844464.parquet', 10000069: 's3://evellama-dev-data-stage/market_region_depths/10000069/2023/01/04/market_region_depths_10000069_20230104_1672844463.parquet', 10000070: 's3://evellama-dev-data-stage/market_region_depths/10000070/2023/01/04/market_region_depths_10000070_20230104_1672844473.parquet'}\n",
    "\n",
    "depths_df = s3.read_parquet(list(depths_paths.values()))\n",
    "depths_df.info()\n"
   ]
  },
  {
   "cell_type": "code",
   "execution_count": 25,
   "metadata": {},
   "outputs": [],
   "source": [
    "import multiprocessing as mp\n",
    "import concurrent.futures\n",
    "\n",
    "def process_type_levels(group_idx, group_df):\n",
    "    last_modified, region_id, type_id = group_idx\n",
    "\n",
    "    sell_levels = (\n",
    "        group_df[~group_df[\"is_buy_order\"]][\n",
    "            [\"price\", \"count\", \"volume\"]\n",
    "        ]\n",
    "        .sort_values(by=\"price\", ascending=False)\n",
    "        .rename(\n",
    "            columns={\"price\": \"p\", \"count\": \"c\", \"volume\": \"v\"}\n",
    "        ) \n",
    "    )\n",
    "\n",
    "    buy_levels = (\n",
    "        group_df[group_df[\"is_buy_order\"]][\n",
    "            [\"price\", \"count\", \"volume\"]\n",
    "        ]\n",
    "        .sort_values(by=\"price\")\n",
    "        .rename(\n",
    "            columns={\"price\": \"p\", \"count\": \"c\", \"volume\": \"v\"}\n",
    "        )\n",
    "    )\n",
    "\n",
    "    return { \"last_modified\": last_modified, \"region_id\": region_id, \"type_id\": type_id, \"buy\": buy_levels.to_json(orient=\"records\"), \"sell\": sell_levels.to_json(orient=\"records\") }"
   ]
  },
  {
   "cell_type": "code",
   "execution_count": 26,
   "metadata": {},
   "outputs": [],
   "source": [
    "types = []\n",
    "with concurrent.futures.ProcessPoolExecutor(mp_context=mp.get_context(\"fork\")) as exe:\n",
    "    futures = {exe.submit(process_type_levels, group_idx, group_df): group_idx for group_idx, group_df in depths_df.groupby([\"last_modified\", \"region_id\", \"type_id\"])}\n",
    "    for future in concurrent.futures.as_completed(futures):\n",
    "        types.append(future.result())"
   ]
  },
  {
   "cell_type": "code",
   "execution_count": 33,
   "metadata": {},
   "outputs": [
    {
     "name": "stdout",
     "output_type": "stream",
     "text": [
      "<class 'pandas.core.frame.DataFrame'>\n",
      "RangeIndex: 166144 entries, 0 to 166143\n",
      "Data columns (total 5 columns):\n",
      " #   Column         Non-Null Count   Dtype         \n",
      "---  ------         --------------   -----         \n",
      " 0   last_modified  166144 non-null  datetime64[ns]\n",
      " 1   region_id      166144 non-null  int64         \n",
      " 2   type_id        166144 non-null  int64         \n",
      " 3   buy            166144 non-null  object        \n",
      " 4   sell           166144 non-null  object        \n",
      "dtypes: datetime64[ns](1), int64(2), object(2)\n",
      "memory usage: 6.3+ MB\n"
     ]
    },
    {
     "data": {
      "text/html": [
       "<div>\n",
       "<style scoped>\n",
       "    .dataframe tbody tr th:only-of-type {\n",
       "        vertical-align: middle;\n",
       "    }\n",
       "\n",
       "    .dataframe tbody tr th {\n",
       "        vertical-align: top;\n",
       "    }\n",
       "\n",
       "    .dataframe thead th {\n",
       "        text-align: right;\n",
       "    }\n",
       "</style>\n",
       "<table border=\"1\" class=\"dataframe\">\n",
       "  <thead>\n",
       "    <tr style=\"text-align: right;\">\n",
       "      <th></th>\n",
       "      <th>last_modified</th>\n",
       "      <th>region_id</th>\n",
       "      <th>type_id</th>\n",
       "      <th>buy</th>\n",
       "      <th>sell</th>\n",
       "    </tr>\n",
       "  </thead>\n",
       "  <tbody>\n",
       "    <tr>\n",
       "      <th>0</th>\n",
       "      <td>2023-01-04 15:00:00</td>\n",
       "      <td>10000012</td>\n",
       "      <td>47912</td>\n",
       "      <td>[{'p': 2500000.0, 'c': 1, 'v': 5}]</td>\n",
       "      <td>[]</td>\n",
       "    </tr>\n",
       "    <tr>\n",
       "      <th>1</th>\n",
       "      <td>2023-01-04 15:00:00</td>\n",
       "      <td>10000001</td>\n",
       "      <td>12563</td>\n",
       "      <td>[]</td>\n",
       "      <td>[{'p': 281500.0, 'c': 1, 'v': 217}, {'p': 2810...</td>\n",
       "    </tr>\n",
       "    <tr>\n",
       "      <th>2</th>\n",
       "      <td>2023-01-04 15:00:00</td>\n",
       "      <td>10000001</td>\n",
       "      <td>16373</td>\n",
       "      <td>[]</td>\n",
       "      <td>[{'p': 499900.0, 'c': 1, 'v': 16}, {'p': 20100...</td>\n",
       "    </tr>\n",
       "    <tr>\n",
       "      <th>3</th>\n",
       "      <td>2023-01-04 15:00:00</td>\n",
       "      <td>10000041</td>\n",
       "      <td>15510</td>\n",
       "      <td>[]</td>\n",
       "      <td>[{'p': 100000.0, 'c': 1, 'v': 50}, {'p': 55030...</td>\n",
       "    </tr>\n",
       "    <tr>\n",
       "      <th>4</th>\n",
       "      <td>2023-01-04 15:00:00</td>\n",
       "      <td>10000001</td>\n",
       "      <td>19260</td>\n",
       "      <td>[]</td>\n",
       "      <td>[{'p': 4500000.0, 'c': 1, 'v': 2}]</td>\n",
       "    </tr>\n",
       "  </tbody>\n",
       "</table>\n",
       "</div>"
      ],
      "text/plain": [
       "        last_modified  region_id  type_id                                 buy  \\\n",
       "0 2023-01-04 15:00:00   10000012    47912  [{'p': 2500000.0, 'c': 1, 'v': 5}]   \n",
       "1 2023-01-04 15:00:00   10000001    12563                                  []   \n",
       "2 2023-01-04 15:00:00   10000001    16373                                  []   \n",
       "3 2023-01-04 15:00:00   10000041    15510                                  []   \n",
       "4 2023-01-04 15:00:00   10000001    19260                                  []   \n",
       "\n",
       "                                                sell  \n",
       "0                                                 []  \n",
       "1  [{'p': 281500.0, 'c': 1, 'v': 217}, {'p': 2810...  \n",
       "2  [{'p': 499900.0, 'c': 1, 'v': 16}, {'p': 20100...  \n",
       "3  [{'p': 100000.0, 'c': 1, 'v': 50}, {'p': 55030...  \n",
       "4                 [{'p': 4500000.0, 'c': 1, 'v': 2}]  "
      ]
     },
     "execution_count": 33,
     "metadata": {},
     "output_type": "execute_result"
    }
   ],
   "source": [
    "types_df = pd.DataFrame.from_dict(types)\n",
    "types_df[\"last_modified\"] = pd.Series(types_df[\"last_modified\"]).dt.floor(\"5T\")\n",
    "types_df.info()\n",
    "types_df.head()"
   ]
  }
 ],
 "metadata": {
  "kernelspec": {
   "display_name": "workflows-34LJhctk",
   "language": "python",
   "name": "python3"
  },
  "language_info": {
   "codemirror_mode": {
    "name": "ipython",
    "version": 3
   },
   "file_extension": ".py",
   "mimetype": "text/x-python",
   "name": "python",
   "nbconvert_exporter": "python",
   "pygments_lexer": "ipython3",
   "version": "3.9.16"
  },
  "orig_nbformat": 4,
  "vscode": {
   "interpreter": {
    "hash": "e64a5d436c97445704265cf6c5bc139c5ad63d523e5f78228ecd03d40c2708da"
   }
  }
 },
 "nbformat": 4,
 "nbformat_minor": 2
}
