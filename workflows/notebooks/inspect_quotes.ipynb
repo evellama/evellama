{
 "cells": [
  {
   "cell_type": "code",
   "execution_count": 5,
   "metadata": {},
   "outputs": [
    {
     "name": "stdout",
     "output_type": "stream",
     "text": [
      "<class 'pandas.core.frame.DataFrame'>\n",
      "RangeIndex: 11780 entries, 0 to 11779\n",
      "Data columns (total 23 columns):\n",
      " #   Column            Non-Null Count  Dtype              \n",
      "---  ------            --------------  -----              \n",
      " 0   region_id         11780 non-null  Int64              \n",
      " 1   type_id           11780 non-null  Int64              \n",
      " 2   last_modified     11780 non-null  datetime64[ns, UTC]\n",
      " 3   buy_index         9726 non-null   float64            \n",
      " 4   buy_order_id      9726 non-null   Int64              \n",
      " 5   buy_system_id     9726 non-null   Int64              \n",
      " 6   buy_location_id   9726 non-null   Int64              \n",
      " 7   buy_price         9726 non-null   float64            \n",
      " 8   buy_volume        9726 non-null   Int64              \n",
      " 9   buy_duration      9726 non-null   Int64              \n",
      " 10  buy_range         9726 non-null   string             \n",
      " 11  buy_issued        9726 non-null   string             \n",
      " 12  buy_min_volume    9726 non-null   Int64              \n",
      " 13  sell_index        9893 non-null   float64            \n",
      " 14  sell_order_id     9893 non-null   Int64              \n",
      " 15  sell_system_id    9893 non-null   Int64              \n",
      " 16  sell_location_id  9893 non-null   Int64              \n",
      " 17  sell_price        9893 non-null   float64            \n",
      " 18  sell_volume       9893 non-null   Int64              \n",
      " 19  sell_duration     9893 non-null   Int64              \n",
      " 20  sell_range        9893 non-null   string             \n",
      " 21  sell_issued       9893 non-null   string             \n",
      " 22  sell_min_volume   9893 non-null   Int64              \n",
      "dtypes: Int64(14), datetime64[ns, UTC](1), float64(4), string(4)\n",
      "memory usage: 2.2 MB\n"
     ]
    }
   ],
   "source": [
    "import awswrangler as wr\n",
    "from io import BytesIO\n",
    "import pandas as pd\n",
    "import matplotlib.pyplot as plot\n",
    "import matplotlib.dates\n",
    "\n",
    "from datetime import datetime\n",
    "from dotenv import load_dotenv\n",
    "from os import environ\n",
    "\n",
    "import boto3\n",
    "\n",
    "load_dotenv()\n",
    "\n",
    "S3_ENDPOINT=\"http://localhost:9000\"\n",
    "S3_ACCESS_KEY_ID=environ.get('MINIO_ACCESS_KEY_ID')\n",
    "S3_SECRET_ACCESS_KEY=environ.get('MINIO_SECRET_ACCESS_KEY')\n",
    "\n",
    "wr.config.s3_endpoint_url = S3_ENDPOINT\n",
    "\n",
    "boto3.setup_default_session(\n",
    "    aws_access_key_id=S3_ACCESS_KEY_ID,\n",
    "    aws_secret_access_key=S3_SECRET_ACCESS_KEY\n",
    ")\n",
    "s3 = wr.s3\n",
    "\n",
    "quotes_df = s3.read_parquet('s3://evellama-dev-data-stage/market_exchange_quotes/jita/2023/01/03/market_exchange_quotes_jita_20230103_1672720089.parquet')\n",
    "# quotes_df = s3.read_parquet('s3://evellama-data-stage/market_region_quotes/10000060/2022/12/27/market_region_quotes_10000060_20221227_1672102287.parquet')\n",
    "quotes_df.info()"
   ]
  }
 ],
 "metadata": {
  "kernelspec": {
   "display_name": "venv",
   "language": "python",
   "name": "python3"
  },
  "language_info": {
   "codemirror_mode": {
    "name": "ipython",
    "version": 3
   },
   "file_extension": ".py",
   "mimetype": "text/x-python",
   "name": "python",
   "nbconvert_exporter": "python",
   "pygments_lexer": "ipython3",
   "version": "3.9.16 (main, Dec 20 2022, 11:39:42) \n[Clang 14.0.0 (clang-1400.0.29.202)]"
  },
  "orig_nbformat": 4,
  "vscode": {
   "interpreter": {
    "hash": "2a0e9961c827027d2d4b761129ec2ce2168108f85947b8cc6b6abb029beca05d"
   }
  }
 },
 "nbformat": 4,
 "nbformat_minor": 2
}
