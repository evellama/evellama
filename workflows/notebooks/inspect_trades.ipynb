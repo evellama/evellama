{
 "cells": [
  {
   "cell_type": "code",
   "execution_count": 1,
   "metadata": {},
   "outputs": [
    {
     "name": "stdout",
     "output_type": "stream",
     "text": [
      "<class 'pandas.core.frame.DataFrame'>\n",
      "RangeIndex: 447 entries, 0 to 446\n",
      "Data columns (total 6 columns):\n",
      " #   Column        Non-Null Count  Dtype  \n",
      "---  ------        --------------  -----  \n",
      " 0   type_id       447 non-null    Int64  \n",
      " 1   is_buy_order  447 non-null    boolean\n",
      " 2   price         447 non-null    float64\n",
      " 3   count         447 non-null    Int64  \n",
      " 4   volume        447 non-null    Int64  \n",
      " 5   value         447 non-null    float64\n",
      "dtypes: Int64(3), boolean(1), float64(2)\n",
      "memory usage: 19.8 KB\n"
     ]
    },
    {
     "data": {
      "text/html": [
       "<div>\n",
       "<style scoped>\n",
       "    .dataframe tbody tr th:only-of-type {\n",
       "        vertical-align: middle;\n",
       "    }\n",
       "\n",
       "    .dataframe tbody tr th {\n",
       "        vertical-align: top;\n",
       "    }\n",
       "\n",
       "    .dataframe thead th {\n",
       "        text-align: right;\n",
       "    }\n",
       "</style>\n",
       "<table border=\"1\" class=\"dataframe\">\n",
       "  <thead>\n",
       "    <tr style=\"text-align: right;\">\n",
       "      <th></th>\n",
       "      <th>type_id</th>\n",
       "      <th>is_buy_order</th>\n",
       "      <th>price</th>\n",
       "      <th>count</th>\n",
       "      <th>volume</th>\n",
       "      <th>value</th>\n",
       "    </tr>\n",
       "  </thead>\n",
       "  <tbody>\n",
       "    <tr>\n",
       "      <th>0</th>\n",
       "      <td>34</td>\n",
       "      <td>False</td>\n",
       "      <td>4.41</td>\n",
       "      <td>1</td>\n",
       "      <td>7108807</td>\n",
       "      <td>31349838.87</td>\n",
       "    </tr>\n",
       "    <tr>\n",
       "      <th>1</th>\n",
       "      <td>34</td>\n",
       "      <td>True</td>\n",
       "      <td>4.14</td>\n",
       "      <td>1</td>\n",
       "      <td>6500</td>\n",
       "      <td>26910.00</td>\n",
       "    </tr>\n",
       "  </tbody>\n",
       "</table>\n",
       "</div>"
      ],
      "text/plain": [
       "   type_id  is_buy_order  price  count   volume        value\n",
       "0       34         False   4.41      1  7108807  31349838.87\n",
       "1       34          True   4.14      1     6500     26910.00"
      ]
     },
     "execution_count": 1,
     "metadata": {},
     "output_type": "execute_result"
    }
   ],
   "source": [
    "import awswrangler as wr\n",
    "from io import BytesIO\n",
    "import pandas as pd\n",
    "import matplotlib.pyplot as plot\n",
    "import matplotlib.dates\n",
    "\n",
    "from datetime import datetime\n",
    "from dotenv import load_dotenv\n",
    "from os import environ\n",
    "\n",
    "import boto3\n",
    "\n",
    "load_dotenv()\n",
    "\n",
    "S3_ENDPOINT=\"http://localhost:9000\"\n",
    "S3_ACCESS_KEY_ID=environ.get('MINIO_ACCESS_KEY_ID')\n",
    "S3_SECRET_ACCESS_KEY=environ.get('MINIO_SECRET_ACCESS_KEY')\n",
    "\n",
    "wr.config.s3_endpoint_url = S3_ENDPOINT\n",
    "\n",
    "boto3.setup_default_session(\n",
    "    aws_access_key_id=S3_ACCESS_KEY_ID,\n",
    "    aws_secret_access_key=S3_SECRET_ACCESS_KEY\n",
    ")\n",
    "s3 = wr.s3\n",
    "\n",
    "trades_df = s3.read_parquet('s3://evellama-dev-data-stage/market_exchange_trade_flows/jita/2023/01/03/market_exchange_trade_flows_jita_20230103_1672720689.parquet')\n",
    "trades_df.info()\n",
    "\n",
    "trades_df[trades_df['type_id']==34].head()"
   ]
  }
 ],
 "metadata": {
  "kernelspec": {
   "display_name": "workflows-34LJhctk",
   "language": "python",
   "name": "python3"
  },
  "language_info": {
   "codemirror_mode": {
    "name": "ipython",
    "version": 3
   },
   "file_extension": ".py",
   "mimetype": "text/x-python",
   "name": "python",
   "nbconvert_exporter": "python",
   "pygments_lexer": "ipython3",
   "version": "3.9.16"
  },
  "orig_nbformat": 4,
  "vscode": {
   "interpreter": {
    "hash": "e64a5d436c97445704265cf6c5bc139c5ad63d523e5f78228ecd03d40c2708da"
   }
  }
 },
 "nbformat": 4,
 "nbformat_minor": 2
}
